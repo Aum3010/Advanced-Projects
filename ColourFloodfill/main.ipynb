{
 "cells": [
  {
   "cell_type": "code",
   "execution_count": 12,
   "metadata": {},
   "outputs": [
    {
     "name": "stdout",
     "output_type": "stream",
     "text": [
      "None\n",
      "None\n",
      "None\n"
     ]
    }
   ],
   "source": [
    "from concurrent.futures import ThreadPoolExecutor\n",
    "from PIL import Image\n",
    "import webcolors\n",
    "\n",
    "def make_sepia(image_path):\n",
    "    img = Image.open(image_path)\n",
    "    img = img.convert(\"RGB\")\n",
    "    pixels = img.load()\n",
    "    width, height = img.size\n",
    "    for x in range(width):\n",
    "        for y in range(height):\n",
    "            r, g, b = pixels[x, y]\n",
    "            pixels[x, y] = (int(r * 0.393 + g * 0.769 + b * 0.189),\n",
    "                            int(r * 0.349 + g * 0.686 + b * 0.168),\n",
    "                            int(r * 0.272 + g * 0.534 + b * 0.131))\n",
    "\n",
    "    img.save(\"sepia_\" + image_path)\n",
    "\n",
    "def main():\n",
    "    image_paths = [\"image1.png\", \"image2.png\",\"image3.png\"]\n",
    "    new_color = webcolors.rgb_to_hex((255, 0, 0)) # red\n",
    "\n",
    "    with ThreadPoolExecutor() as executor:\n",
    "        results1 = [executor.submit(make_sepia, image_path) for image_path in image_paths]\n",
    "        for f in results1:\n",
    "            print(f.result())\n",
    "\n",
    "if __name__ == \"__main__\":\n",
    "    main()"
   ]
  }
 ],
 "metadata": {
  "kernelspec": {
   "display_name": "Python 3.8.15 ('tf_macos')",
   "language": "python",
   "name": "python3"
  },
  "language_info": {
   "codemirror_mode": {
    "name": "ipython",
    "version": 3
   },
   "file_extension": ".py",
   "mimetype": "text/x-python",
   "name": "python",
   "nbconvert_exporter": "python",
   "pygments_lexer": "ipython3",
   "version": "3.8.15"
  },
  "orig_nbformat": 4,
  "vscode": {
   "interpreter": {
    "hash": "00a6e073355e9b0411918a62fb4fdd1c06544a8dcad1eedaa95f96821dbe236f"
   }
  }
 },
 "nbformat": 4,
 "nbformat_minor": 2
}
