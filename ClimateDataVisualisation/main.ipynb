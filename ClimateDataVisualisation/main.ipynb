{
 "cells": [
  {
   "cell_type": "code",
   "execution_count": null,
   "metadata": {},
   "outputs": [],
   "source": [
    "import xarray as xr\n",
    "import matplotlib.pyplot as plt\n",
    "import cartopy.crs as ccrs\n",
    "\n",
    "# Open the netCDF file using xarray\n",
    "ds = xr.open_dataset('SEAFLUX-OSB-CDR_V02R00_FLUX_D20210101_C20210530.nc')\n",
    "\n",
    "# Extract a variable of interest\n",
    "var = ds['variable_name']\n",
    "\n",
    "# Create a map using cartopy\n",
    "ax = plt.axes(projection=ccrs.PlateCarree())\n",
    "ax.coastlines()\n",
    "\n",
    "# Plot the data on the map using matplotlib\n",
    "var.plot(ax=ax, transform=ccrs.PlateCarree(), cmap='coolwarm')\n",
    "\n",
    "# Show the plot \n",
    "plt.show()\n"
   ]
  }
 ],
 "metadata": {
  "kernelspec": {
   "display_name": "Python 3.8.15 ('tf_macos')",
   "language": "python",
   "name": "python3"
  },
  "language_info": {
   "codemirror_mode": {
    "name": "ipython",
    "version": 3
   },
   "file_extension": ".py",
   "mimetype": "text/x-python",
   "name": "python",
   "nbconvert_exporter": "python",
   "pygments_lexer": "ipython3",
   "version": "3.8.15"
  },
  "orig_nbformat": 4,
  "vscode": {
   "interpreter": {
    "hash": "00a6e073355e9b0411918a62fb4fdd1c06544a8dcad1eedaa95f96821dbe236f"
   }
  }
 },
 "nbformat": 4,
 "nbformat_minor": 2
}
